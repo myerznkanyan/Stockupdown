{
 "cells": [
  {
   "cell_type": "code",
   "execution_count": 10,
   "metadata": {},
   "outputs": [],
   "source": [
    "# Load libraries\n",
    "import pandas as pd\n",
    "import yfinance as yf\n",
    "import matplotlib.pyplot as plt\n",
    "import numpy as np\n",
    "import torch.nn as nn\n",
    "import torch"
   ]
  },
  {
   "cell_type": "markdown",
   "metadata": {},
   "source": [
    "## Download Data\n",
    "\n",
    "##### Download stock price data from Yahoo Finance using python yfinance library."
   ]
  },
  {
   "cell_type": "code",
   "execution_count": 11,
   "metadata": {},
   "outputs": [
    {
     "data": {
      "image/png": "[encoded data removed]",
      "text/plain": [
       "<Figure size 864x360 with 1 Axes>"
      ]
     },
     "metadata": {
      "needs_background": "light"
     },
     "output_type": "display_data"
    }
   ],
   "source": [
    "def download_data(company, start_date, end_date):\n",
    "    # get the data from Yahoo Finance\n",
    "    data = yf.download(company, \n",
    "                      start=start_date, \n",
    "                      end=end_date, \n",
    "                      progress=False)\n",
    "    \n",
    "    plt.figure(figsize=(12,5))\n",
    "    plt.plot(data['Close'])\n",
    "    plt.title(f\"{company} Stock Price\",fontsize=10, fontweight='bold')\n",
    "    plt.xlabel('Date',fontsize=10)\n",
    "    plt.ylabel('Close Price $',fontsize=10)\n",
    "    plt.show()\n",
    "    return data\n",
    "\n",
    "df = download_data('AAPL','2010-01-01', '2022-02-06')"
   ]
  },
  {
   "cell_type": "markdown",
   "metadata": {},
   "source": [
    "## Data preparation: modify data and remove other columns"
   ]
  },
  {
   "cell_type": "code",
   "execution_count": 12,
   "metadata": {},
   "outputs": [
    {
     "data": {
      "text/html": [
       "<div>\n",
       "<style scoped>\n",
       "    .dataframe tbody tr th:only-of-type {\n",
       "        vertical-align: middle;\n",
       "    }\n",
       "\n",
       "    .dataframe tbody tr th {\n",
       "        vertical-align: top;\n",
       "    }\n",
       "\n",
       "    .dataframe thead th {\n",
       "        text-align: right;\n",
       "    }\n",
       "</style>\n",
       "<table border=\"1\" class=\"dataframe\">\n",
       "  <thead>\n",
       "    <tr style=\"text-align: right;\">\n",
       "      <th></th>\n",
       "      <th>up_down</th>\n",
       "    </tr>\n",
       "    <tr>\n",
       "      <th>Date</th>\n",
       "      <th></th>\n",
       "    </tr>\n",
       "  </thead>\n",
       "  <tbody>\n",
       "    <tr>\n",
       "      <th>2009-12-31</th>\n",
       "      <td>0.0</td>\n",
       "    </tr>\n",
       "    <tr>\n",
       "      <th>2010-01-04</th>\n",
       "      <td>1.0</td>\n",
       "    </tr>\n",
       "    <tr>\n",
       "      <th>2010-01-05</th>\n",
       "      <td>1.0</td>\n",
       "    </tr>\n",
       "    <tr>\n",
       "      <th>2010-01-06</th>\n",
       "      <td>0.0</td>\n",
       "    </tr>\n",
       "    <tr>\n",
       "      <th>2010-01-07</th>\n",
       "      <td>0.0</td>\n",
       "    </tr>\n",
       "    <tr>\n",
       "      <th>...</th>\n",
       "      <td>...</td>\n",
       "    </tr>\n",
       "    <tr>\n",
       "      <th>2022-01-31</th>\n",
       "      <td>1.0</td>\n",
       "    </tr>\n",
       "    <tr>\n",
       "      <th>2022-02-01</th>\n",
       "      <td>0.0</td>\n",
       "    </tr>\n",
       "    <tr>\n",
       "      <th>2022-02-02</th>\n",
       "      <td>1.0</td>\n",
       "    </tr>\n",
       "    <tr>\n",
       "      <th>2022-02-03</th>\n",
       "      <td>0.0</td>\n",
       "    </tr>\n",
       "    <tr>\n",
       "      <th>2022-02-04</th>\n",
       "      <td>0.0</td>\n",
       "    </tr>\n",
       "  </tbody>\n",
       "</table>\n",
       "<p>3046 rows × 1 columns</p>\n",
       "</div>"
      ],
      "text/plain": [
       "            up_down\n",
       "Date               \n",
       "2009-12-31      0.0\n",
       "2010-01-04      1.0\n",
       "2010-01-05      1.0\n",
       "2010-01-06      0.0\n",
       "2010-01-07      0.0\n",
       "...             ...\n",
       "2022-01-31      1.0\n",
       "2022-02-01      0.0\n",
       "2022-02-02      1.0\n",
       "2022-02-03      0.0\n",
       "2022-02-04      0.0\n",
       "\n",
       "[3046 rows x 1 columns]"
      ]
     },
     "execution_count": 12,
     "metadata": {},
     "output_type": "execute_result"
    }
   ],
   "source": [
    "def modify_data(data):\n",
    "    # modify data and remove other columns \n",
    "    # 0: stock price decreasing\n",
    "    # 1: stock price increasing\n",
    "    data_np = np.array(data['Close'])\n",
    "    up_down = np.zeros(data_np.size)\n",
    "    for i in range(1,data_np.size):\n",
    "        if(data_np[i]-data_np[i-1] > 0):\n",
    "            up_down[i] = 1\n",
    "        else:\n",
    "            up_down[i] = 0\n",
    "    data['up_down'] = up_down\n",
    "    data.drop(data.columns.difference(['Date','up_down']), 1, inplace=True)\n",
    "    return data\n",
    "df = modify_data(df)\n",
    "df"
   ]
  },
  {
   "cell_type": "markdown",
   "metadata": {},
   "source": [
    "## Generating training and test datasets"
   ]
  },
  {
   "cell_type": "code",
   "execution_count": 13,
   "metadata": {},
   "outputs": [
    {
     "name": "stdout",
     "output_type": "stream",
     "text": [
      "x_train.shape =  (2405, 39, 1)\n",
      "y_train.shape =  (2405, 1)\n",
      "x_test.shape =  (601, 39, 1)\n",
      "y_test.shape =  (601, 1)\n"
     ]
    }
   ],
   "source": [
    "def split_data(stock, lookback):\n",
    "    data_raw = stock.to_numpy()\n",
    "    data = []\n",
    "    \n",
    "    # create all possible sequences of length lookback\n",
    "    for index in range(len(data_raw) - lookback): \n",
    "        data.append(data_raw[index: index + lookback])\n",
    "    \n",
    "    data = np.array(data);\n",
    "    test_set_size = int(np.round(0.2*data.shape[0]));\n",
    "    train_set_size = data.shape[0] - (test_set_size);\n",
    "    \n",
    "    x_train = data[:train_set_size,:-1,:]\n",
    "    y_train = data[:train_set_size,-1,:]\n",
    "    \n",
    "    x_test = data[train_set_size:,:-1]\n",
    "    y_test = data[train_set_size:,-1,:]\n",
    "    \n",
    "    return [x_train, y_train, x_test, y_test]\n",
    "\n",
    "# Choose sequence length\n",
    "lookback = 40 \n",
    "x_train, y_train, x_test, y_test = split_data(df, lookback)\n",
    "print('x_train.shape = ',x_train.shape)\n",
    "print('y_train.shape = ',y_train.shape)\n",
    "print('x_test.shape = ',x_test.shape)\n",
    "print('y_test.shape = ',y_test.shape)"
   ]
  },
  {
   "cell_type": "markdown",
   "metadata": {},
   "source": [
    "## Defining Dataloader"
   ]
  },
  {
   "cell_type": "code",
   "execution_count": 14,
   "metadata": {},
   "outputs": [
    {
     "name": "stdout",
     "output_type": "stream",
     "text": [
      "Train data shape (2405, 39, 1) (2405,)\n",
      "Test data shape (601, 39, 1) (601,)\n"
     ]
    }
   ],
   "source": [
    "import torch.optim as optim\n",
    "from torch.utils.data import Dataset\n",
    "from torch.utils.data import DataLoader\n",
    "import torch.nn as nn\n",
    "import torch\n",
    "\n",
    "class TimeSeriesDataset(Dataset):\n",
    "    def __init__(self, x, y):\n",
    "        self.x = x.astype(np.float32)\n",
    "        self.y = y.astype(np.float32)\n",
    "        \n",
    "    def __len__(self):\n",
    "        return len(self.x)\n",
    "\n",
    "    def __getitem__(self, idx):\n",
    "        return (self.x[idx], self.y[idx])\n",
    "\n",
    "dataset_train = TimeSeriesDataset(x_train, y_train.squeeze())\n",
    "dataset_test = TimeSeriesDataset(x_test, y_test.squeeze())\n",
    "\n",
    "print(\"Train data shape\", dataset_train.x.shape, dataset_train.y.shape)\n",
    "print(\"Test data shape\", dataset_test.x.shape, dataset_test.y.shape)"
   ]
  },
  {
   "cell_type": "markdown",
   "metadata": {},
   "source": [
    "## Defining the GRU model"
   ]
  },
  {
   "cell_type": "code",
   "execution_count": 15,
   "metadata": {},
   "outputs": [],
   "source": [
    "# parameters\n",
    "input_dim = 1\n",
    "hidden_dim = 64\n",
    "num_layers = 3\n",
    "output_dim = 1\n",
    "num_epochs = 70\n",
    "batch_size = 64\n",
    "learning_rate = 0.01\n",
    "scheduler_step_size = 50\n",
    "\n",
    "class GRUModel(nn.Module):\n",
    "    def __init__(self, input_size=1, hidden_layer_size=32, num_layers=2, output_size=1, dropout=0.2):\n",
    "        super().__init__()\n",
    "        self.hidden_layer_size = hidden_layer_size\n",
    "        self.num_layers = num_layers\n",
    "        self.hidden_layer_size = hidden_layer_size\n",
    "        \n",
    "        self.linear_1 = nn.Linear(input_size, hidden_layer_size)\n",
    "        self.relu = nn.ReLU()\n",
    "        self.gru = nn.GRU(hidden_layer_size, hidden_layer_size, num_layers, batch_first=True)\n",
    "        self.fc = nn.Linear(num_layers*hidden_layer_size, output_dim)\n",
    "        self.dropout = nn.Dropout(dropout)\n",
    "        self.activation = nn.Sigmoid()\n",
    "        self.init_weights()\n",
    "\n",
    "    def init_weights(self):\n",
    "        for name, param in self.gru.named_parameters():\n",
    "            if 'bias' in name:\n",
    "                 nn.init.constant_(param, 0.0)\n",
    "            elif 'weight_ih' in name:\n",
    "                 nn.init.kaiming_normal_(param)\n",
    "            elif 'weight_hh' in name:\n",
    "                 nn.init.orthogonal_(param)\n",
    "\n",
    "    def forward(self, x):\n",
    "        batchsize = x.shape[0]\n",
    "        \n",
    "        # layer 1 \n",
    "        x = self.linear_1(x)\n",
    "        x = self.relu(x)\n",
    "        \n",
    "        # GRU layer\n",
    "        h0 = torch.zeros(self.num_layers, x.size(0), self.hidden_layer_size).requires_grad_()\n",
    "        gru_out, h_n = self.gru(x , h0.detach())\n",
    "        \n",
    "        # reshape output from hidden cell into [batch, features] for `linear_2\n",
    "        x = h_n.permute(1, 0, 2).reshape(batchsize, -1)\n",
    "        \n",
    "        # layer 2\n",
    "        x = self.dropout(x)\n",
    "        predictions = self.fc(x) \n",
    "        \n",
    "        # Sigmoid layer\n",
    "        return self.activation(predictions[:,-1])\n",
    "\n",
    "model = GRUModel(input_size=input_dim, hidden_layer_size=hidden_dim, num_layers=num_layers, output_size=output_dim, dropout=0.3)\n",
    "model = model.to('cpu')"
   ]
  },
  {
   "cell_type": "markdown",
   "metadata": {},
   "source": [
    "## Train the model"
   ]
  },
  {
   "cell_type": "code",
   "execution_count": 16,
   "metadata": {},
   "outputs": [
    {
     "name": "stdout",
     "output_type": "stream",
     "text": [
      "Epoch[1/70] | loss train:0.716441, test:0.176636 ,lr :0.01000   \n",
      "Epoch[2/70] | loss train:0.688881, test:0.177491 ,lr :0.01000   \n",
      "Epoch[3/70] | loss train:0.685638, test:0.177140 ,lr :0.01000   \n",
      "Epoch[4/70] | loss train:0.684594, test:0.178082 ,lr :0.01000   \n",
      "Epoch[5/70] | loss train:0.685457, test:0.177479 ,lr :0.01000   \n",
      "Epoch[6/70] | loss train:0.684357, test:0.177535 ,lr :0.01000   \n",
      "Epoch[7/70] | loss train:0.694071, test:0.177354 ,lr :0.01000   \n",
      "Epoch[8/70] | loss train:0.683412, test:0.177209 ,lr :0.01000   \n",
      "Epoch[9/70] | loss train:0.698357, test:0.179022 ,lr :0.01000   \n",
      "Epoch[10/70] | loss train:0.689256, test:0.177264 ,lr :0.01000   \n",
      "Epoch[11/70] | loss train:0.687396, test:0.186611 ,lr :0.01000   \n",
      "Epoch[12/70] | loss train:0.697542, test:0.183758 ,lr :0.01000   \n",
      "Epoch[13/70] | loss train:0.695794, test:0.177293 ,lr :0.01000   \n",
      "Epoch[14/70] | loss train:0.682232, test:0.177520 ,lr :0.01000   \n",
      "Epoch[15/70] | loss train:0.699887, test:0.178651 ,lr :0.01000   \n",
      "Epoch[16/70] | loss train:0.694044, test:0.179180 ,lr :0.01000   \n",
      "Epoch[17/70] | loss train:0.694135, test:0.179920 ,lr :0.01000   \n",
      "Epoch[18/70] | loss train:0.689176, test:0.176957 ,lr :0.01000   \n",
      "Epoch[19/70] | loss train:0.693182, test:0.189612 ,lr :0.01000   \n",
      "Epoch[20/70] | loss train:0.695071, test:0.180002 ,lr :0.01000   \n",
      "Epoch[21/70] | loss train:0.687373, test:0.178316 ,lr :0.01000   \n",
      "Epoch[22/70] | loss train:0.687531, test:0.178648 ,lr :0.01000   \n",
      "Epoch[23/70] | loss train:0.692619, test:0.177235 ,lr :0.01000   \n",
      "Epoch[24/70] | loss train:0.681904, test:0.180596 ,lr :0.01000   \n",
      "Epoch[25/70] | loss train:0.685910, test:0.177746 ,lr :0.01000   \n",
      "Epoch[26/70] | loss train:0.684946, test:0.179365 ,lr :0.01000   \n",
      "Epoch[27/70] | loss train:0.690599, test:0.185090 ,lr :0.01000   \n",
      "Epoch[28/70] | loss train:0.683470, test:0.178250 ,lr :0.01000   \n",
      "Epoch[29/70] | loss train:0.689178, test:0.177098 ,lr :0.01000   \n",
      "Epoch[30/70] | loss train:0.688594, test:0.181249 ,lr :0.01000   \n",
      "Epoch[31/70] | loss train:0.691878, test:0.184814 ,lr :0.01000   \n",
      "Epoch[32/70] | loss train:0.686149, test:0.187741 ,lr :0.01000   \n",
      "Epoch[33/70] | loss train:0.695986, test:0.177919 ,lr :0.01000   \n",
      "Epoch[34/70] | loss train:0.698780, test:0.178307 ,lr :0.01000   \n",
      "Epoch[35/70] | loss train:0.690394, test:0.191716 ,lr :0.01000   \n",
      "Epoch[36/70] | loss train:0.695572, test:0.178600 ,lr :0.01000   \n",
      "Epoch[37/70] | loss train:0.684839, test:0.179179 ,lr :0.01000   \n",
      "Epoch[38/70] | loss train:0.686158, test:0.182368 ,lr :0.01000   \n",
      "Epoch[39/70] | loss train:0.703714, test:0.181858 ,lr :0.01000   \n",
      "Epoch[40/70] | loss train:0.685996, test:0.177459 ,lr :0.01000   \n",
      "Epoch[41/70] | loss train:0.682652, test:0.177660 ,lr :0.01000   \n",
      "Epoch[42/70] | loss train:0.679808, test:0.177876 ,lr :0.01000   \n",
      "Epoch[43/70] | loss train:0.679982, test:0.177353 ,lr :0.01000   \n",
      "Epoch[44/70] | loss train:0.682601, test:0.187724 ,lr :0.01000   \n",
      "Epoch[45/70] | loss train:0.683514, test:0.180485 ,lr :0.01000   \n",
      "Epoch[46/70] | loss train:0.679976, test:0.179932 ,lr :0.01000   \n",
      "Epoch[47/70] | loss train:0.683333, test:0.177420 ,lr :0.01000   \n",
      "Epoch[48/70] | loss train:0.684176, test:0.182044 ,lr :0.01000   \n",
      "Epoch[49/70] | loss train:0.682493, test:0.178232 ,lr :0.01000   \n",
      "Epoch[50/70] | loss train:0.681852, test:0.177340 ,lr :0.01000   \n",
      "Epoch[51/70] | loss train:0.678023, test:0.176654 ,lr :0.00100   \n",
      "Epoch[52/70] | loss train:0.676680, test:0.177412 ,lr :0.00100   \n",
      "Epoch[53/70] | loss train:0.674098, test:0.176720 ,lr :0.00100   \n",
      "Epoch[54/70] | loss train:0.675798, test:0.176791 ,lr :0.00100   \n",
      "Epoch[55/70] | loss train:0.675510, test:0.176764 ,lr :0.00100   \n",
      "Epoch[56/70] | loss train:0.675829, test:0.177476 ,lr :0.00100   \n",
      "Epoch[57/70] | loss train:0.675154, test:0.177220 ,lr :0.00100   \n",
      "Epoch[58/70] | loss train:0.674228, test:0.178557 ,lr :0.00100   \n",
      "Epoch[59/70] | loss train:0.671703, test:0.178363 ,lr :0.00100   \n",
      "Epoch[60/70] | loss train:0.672424, test:0.177606 ,lr :0.00100   \n",
      "Epoch[61/70] | loss train:0.676374, test:0.176777 ,lr :0.00100   \n",
      "Epoch[62/70] | loss train:0.674212, test:0.176479 ,lr :0.00100   \n",
      "Epoch[63/70] | loss train:0.672607, test:0.176782 ,lr :0.00100   \n",
      "Epoch[64/70] | loss train:0.672988, test:0.176645 ,lr :0.00100   \n",
      "Epoch[65/70] | loss train:0.672300, test:0.179332 ,lr :0.00100   \n",
      "Epoch[66/70] | loss train:0.675065, test:0.176834 ,lr :0.00100   \n",
      "Epoch[67/70] | loss train:0.673480, test:0.177081 ,lr :0.00100   \n",
      "Epoch[68/70] | loss train:0.671372, test:0.176870 ,lr :0.00100   \n",
      "Epoch[69/70] | loss train:0.671409, test:0.177409 ,lr :0.00100   \n",
      "Epoch[70/70] | loss train:0.673632, test:0.176797 ,lr :0.00100   \n"
     ]
    }
   ],
   "source": [
    "def run_epoch(dataloader, is_training=False):\n",
    "    epoch_loss = 0\n",
    "\n",
    "    if is_training:\n",
    "        model.train()\n",
    "    else:\n",
    "        model.eval()\n",
    "\n",
    "    for idx, (x, y) in enumerate(dataloader):\n",
    "        if is_training:\n",
    "            optimizer.zero_grad()\n",
    "        \n",
    "        batchsize = x.shape[1]\n",
    "        \n",
    "        # to device\n",
    "        x = x.to(\"cpu\")\n",
    "        y = y.to(\"cpu\")\n",
    "        \n",
    "        # predict\n",
    "        out = model(x)\n",
    "        \n",
    "        # loss calculation\n",
    "        loss = criterion(out.contiguous(), y.contiguous())\n",
    "\n",
    "        if is_training:\n",
    "            loss.backward()\n",
    "            optimizer.step()\n",
    "\n",
    "        epoch_loss += (loss.detach().item() / batchsize)\n",
    "        \n",
    "        # scheduler\n",
    "        lr = scheduler.get_last_lr()[0]\n",
    "        \n",
    "    return epoch_loss,lr\n",
    "\n",
    "# create DataLoader\n",
    "train_dataloader = DataLoader(dataset_train, batch_size=batch_size, shuffle=True)\n",
    "test_dataloader = DataLoader(dataset_test, batch_size=batch_size, shuffle=True)\n",
    "\n",
    "# define optimizer, scheduler and loss function\n",
    "criterion = nn.BCELoss()\n",
    "optimizer = optim.Adam(model.parameters(), lr=learning_rate)\n",
    "scheduler = optim.lr_scheduler.StepLR(optimizer, step_size=scheduler_step_size, gamma=0.1)\n",
    "\n",
    "# for loss plotting \n",
    "hist_train = np.zeros(num_epochs)\n",
    "hist_test = np.zeros(num_epochs)\n",
    "\n",
    "# begin training\n",
    "for epoch in range(num_epochs):\n",
    "    loss_train, lr = run_epoch(train_dataloader, is_training=True)\n",
    "    loss_test, lr = run_epoch(test_dataloader)\n",
    "    scheduler.step()\n",
    "    print('Epoch[{}/{}] | loss train:{:.6f}, test:{:.6f} ,lr :{:.5f}   '\n",
    "              .format(epoch+1, num_epochs, loss_train, loss_test, lr))\n",
    "    hist_train[epoch] = loss_train\n",
    "    hist_test[epoch] = loss_test"
   ]
  },
  {
   "cell_type": "code",
   "execution_count": 17,
   "metadata": {},
   "outputs": [
    {
     "data": {
      "image/png": "[encoded data removed]",
      "text/plain": [
       "<Figure size 864x216 with 2 Axes>"
      ]
     },
     "metadata": {
      "needs_background": "light"
     },
     "output_type": "display_data"
    }
   ],
   "source": [
    "def loss_plot(hist_train,hist_test):\n",
    "    fig, (ax1, ax2) = plt.subplots(2,figsize=(12,3))\n",
    "    plt.subplots_adjust(bottom=0.1, right=0.8, top=2.1)\n",
    "    ax1.title.set_text('Train Loss')\n",
    "    ax2.title.set_text('Test Loss')\n",
    "    ax1.plot(hist_train)\n",
    "    ax2.plot(hist_test)\n",
    "    plt.show\n",
    "    \n",
    "loss_plot(hist_train,hist_test)"
   ]
  },
  {
   "cell_type": "markdown",
   "metadata": {},
   "source": [
    "## Calculate the Accuracy, Precision, Recall and F1 score"
   ]
  },
  {
   "cell_type": "code",
   "execution_count": 18,
   "metadata": {},
   "outputs": [
    {
     "name": "stdout",
     "output_type": "stream",
     "text": [
      "Train accuracy = 0.54\n",
      "Test accuracy = 0.53\n",
      "Recall = 0.80\n",
      "Precision = 0.55\n",
      "F1 = 0.65\n"
     ]
    }
   ],
   "source": [
    "from sklearn.metrics import f1_score,recall_score,precision_score \n",
    "\n",
    "# here we re-initialize dataloader so the data doesn't shuffled, so we can calcluate the accuracy\n",
    "\n",
    "train_dataloader = DataLoader(dataset_train, batch_size=32, shuffle=False)\n",
    "test_dataloader = DataLoader(dataset_test, batch_size=32, shuffle=False)\n",
    "\n",
    "model.eval()\n",
    "\n",
    "# predict on the train data\n",
    "\n",
    "predicted_train = np.array([])\n",
    "train_y = np.array([])\n",
    "\n",
    "for idx, (x, y) in enumerate(train_dataloader):\n",
    "    x = x.to('cpu')\n",
    "    out = model(x)\n",
    "    out = out.cpu().detach().numpy()\n",
    "\n",
    "    predicted_train = np.concatenate((predicted_train, out))\n",
    "    train_y = np.concatenate((train_y,y))\n",
    "\n",
    "# predict on the test data\n",
    "predicted_test = np.array([])\n",
    "test_y = np.array([])\n",
    "\n",
    "for idx, (x, y) in enumerate(test_dataloader):\n",
    "    x = x.to('cpu')\n",
    "    out = model(x)\n",
    "    out = out.cpu().detach().numpy()\n",
    "    predicted_test = np.concatenate((predicted_test, out))\n",
    "    test_y = np.concatenate((test_y,y))\n",
    "\n",
    "# train accuracy calculation\n",
    "train_acc = torch.sum(torch.round(torch.tensor(predicted_train)) == torch.tensor(train_y))\n",
    "final_train_acc = train_acc/predicted_train.shape[0]\n",
    "\n",
    "# test accuracy calculation\n",
    "test_acc = torch.sum(torch.round(torch.tensor(predicted_test)) == torch.tensor(test_y))\n",
    "final_test_acc = test_acc/predicted_test.shape[0]\n",
    "\n",
    "# Precision, Recall and F1 score\n",
    "recall = recall_score(train_y, torch.round(torch.tensor(predicted_train)))\n",
    "precision = precision_score(train_y, torch.round(torch.tensor(predicted_train)))\n",
    "f1 = f1_score(train_y, torch.round(torch.tensor(predicted_train)))\n",
    "\n",
    "print(\"Train accuracy = {:.2f}\".format(final_train_acc.item()))\n",
    "print(\"Test accuracy = {:.2f}\".format(final_test_acc.item()))\n",
    "print(\"Recall = {:.2f}\".format(recall))\n",
    "print(\"Precision = {:.2f}\".format(precision))\n",
    "print(\"F1 = {:.2f}\".format(f1))"
   ]
  },
  {
   "cell_type": "markdown",
   "metadata": {},
   "source": [
    "## Save the model"
   ]
  },
  {
   "cell_type": "code",
   "execution_count": 167,
   "metadata": {},
   "outputs": [],
   "source": [
    "torch.save(model, \"stock_price_gru.pth\")"
   ]
  },
  {
   "cell_type": "code",
   "execution_count": 6,
   "metadata": {},
   "outputs": [
    {
     "name": "stdout",
     "output_type": "stream",
     "text": [
      "Requirement already satisfied: pipreqs in /home/codics/anaconda3/envs/note_converter_pytorch1_9/lib/python3.7/site-packages (0.4.11)\r\n",
      "Requirement already satisfied: yarg in /home/codics/anaconda3/envs/note_converter_pytorch1_9/lib/python3.7/site-packages (from pipreqs) (0.1.9)\r\n",
      "Requirement already satisfied: docopt in /home/codics/anaconda3/envs/note_converter_pytorch1_9/lib/python3.7/site-packages (from pipreqs) (0.6.2)\r\n",
      "Requirement already satisfied: requests in /home/codics/anaconda3/envs/note_converter_pytorch1_9/lib/python3.7/site-packages (from yarg->pipreqs) (2.27.1)\r\n",
      "Requirement already satisfied: certifi>=2017.4.17 in /home/codics/anaconda3/envs/note_converter_pytorch1_9/lib/python3.7/site-packages (from requests->yarg->pipreqs) (2020.6.20)\r\n",
      "Requirement already satisfied: idna<4,>=2.5; python_version >= \"3\" in /home/codics/anaconda3/envs/note_converter_pytorch1_9/lib/python3.7/site-packages (from requests->yarg->pipreqs) (2.10)\r\n",
      "Requirement already satisfied: charset-normalizer~=2.0.0; python_version >= \"3\" in /home/codics/anaconda3/envs/note_converter_pytorch1_9/lib/python3.7/site-packages (from requests->yarg->pipreqs) (2.0.11)\r\n",
      "Requirement already satisfied: urllib3<1.27,>=1.21.1 in /home/codics/anaconda3/envs/note_converter_pytorch1_9/lib/python3.7/site-packages (from requests->yarg->pipreqs) (1.25.11)\r\n"
     ]
    }
   ],
   "source": [
    "!pip install pipreqs"
   ]
  },
  {
   "cell_type": "code",
   "execution_count": 9,
   "metadata": {
    "pycharm": {
     "name": "#%%\n"
    }
   },
   "outputs": [
    {
     "name": "stdout",
     "output_type": "stream",
     "text": [
      "INFO: Successfully saved requirements file in /home/codics/DataspellProjects/Stockupdown/requirements.txt\r\n"
     ]
    }
   ],
   "source": [
    "!pipreqs --force"
   ]
  },
  {
   "cell_type": "code",
   "execution_count": null,
   "metadata": {
    "pycharm": {
     "name": "#%%\n"
    }
   },
   "outputs": [],
   "source": []
  }
 ],
 "metadata": {
  "kernelspec": {
   "display_name": "note_converter_pytorch1_9",
   "language": "python",
   "name": "note_converter_pytorch1_9"
  },
  "language_info": {
   "codemirror_mode": {
    "name": "ipython",
    "version": 3
   },
   "file_extension": ".py",
   "mimetype": "text/x-python",
   "name": "python",
   "nbconvert_exporter": "python",
   "pygments_lexer": "ipython3",
   "version": "3.7.10"
  }
 },
 "nbformat": 4,
 "nbformat_minor": 4
}